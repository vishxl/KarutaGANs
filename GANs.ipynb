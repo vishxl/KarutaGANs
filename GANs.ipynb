{
  "nbformat": 4,
  "nbformat_minor": 0,
  "metadata": {
    "colab": {
      "name": "GANs.ipynb",
      "provenance": [],
      "collapsed_sections": []
    },
    "kernelspec": {
      "name": "python3",
      "display_name": "Python 3"
    },
    "accelerator": "GPU"
  },
  "cells": [
    {
      "cell_type": "code",
      "metadata": {
        "id": "YU8Z97ybZ1li",
        "colab_type": "code",
        "colab": {}
      },
      "source": [
        "import torch\n",
        "from torch import nn\n",
        "from torch import optim\n",
        "from torchvision.transforms import transforms\n",
        "import numpy as np\n",
        "from PIL import Image\n",
        "import matplotlib.pyplot as plt\n",
        "\n",
        "from tqdm.notebook import tqdm\n",
        "import warnings\n",
        "warnings.filterwarnings(\"ignore\")"
      ],
      "execution_count": 1,
      "outputs": []
    },
    {
      "cell_type": "code",
      "metadata": {
        "id": "bXM2N4y3oPkR",
        "colab_type": "code",
        "colab": {
          "base_uri": "https://localhost:8080/",
          "height": 351
        },
        "outputId": "380527c3-443d-4fda-8b7f-69df8bbeb0d1"
      },
      "source": [
        "transform = transforms.Compose([\n",
        "                                transforms.Resize((32, 32)),\n",
        "                                transforms.ToTensor()\n",
        "])\n",
        "\n",
        "flat_img = 3072\n",
        "\n",
        "img = Image.open('https://images.ctfassets.net/1o0msnomnlhl/f1apLxq0UVelPHF7jXO8m/6c126525dcd7d433cca577eb0f215ec5/shutterstock_1476546878.jpg')\n",
        "real_img = transform(img)\n",
        "plt.imshow(np.transpose(real_img.numpy(), (1, 2, 0)))\n",
        "print(real_img.size())"
      ],
      "execution_count": 2,
      "outputs": [
        {
          "output_type": "error",
          "ename": "FileNotFoundError",
          "evalue": "ignored",
          "traceback": [
            "\u001b[0;31m---------------------------------------------------------------------------\u001b[0m",
            "\u001b[0;31mFileNotFoundError\u001b[0m                         Traceback (most recent call last)",
            "\u001b[0;32m<ipython-input-2-a4c75de1926c>\u001b[0m in \u001b[0;36m<module>\u001b[0;34m()\u001b[0m\n\u001b[1;32m      6\u001b[0m \u001b[0mflat_img\u001b[0m \u001b[0;34m=\u001b[0m \u001b[0;36m3072\u001b[0m\u001b[0;34m\u001b[0m\u001b[0;34m\u001b[0m\u001b[0m\n\u001b[1;32m      7\u001b[0m \u001b[0;34m\u001b[0m\u001b[0m\n\u001b[0;32m----> 8\u001b[0;31m \u001b[0mimg\u001b[0m \u001b[0;34m=\u001b[0m \u001b[0mImage\u001b[0m\u001b[0;34m.\u001b[0m\u001b[0mopen\u001b[0m\u001b[0;34m(\u001b[0m\u001b[0;34m'https://images.ctfassets.net/1o0msnomnlhl/f1apLxq0UVelPHF7jXO8m/6c126525dcd7d433cca577eb0f215ec5/shutterstock_1476546878.jpg'\u001b[0m\u001b[0;34m)\u001b[0m\u001b[0;34m\u001b[0m\u001b[0;34m\u001b[0m\u001b[0m\n\u001b[0m\u001b[1;32m      9\u001b[0m \u001b[0mreal_img\u001b[0m \u001b[0;34m=\u001b[0m \u001b[0mtransform\u001b[0m\u001b[0;34m(\u001b[0m\u001b[0mimg\u001b[0m\u001b[0;34m)\u001b[0m\u001b[0;34m\u001b[0m\u001b[0;34m\u001b[0m\u001b[0m\n\u001b[1;32m     10\u001b[0m \u001b[0mplt\u001b[0m\u001b[0;34m.\u001b[0m\u001b[0mimshow\u001b[0m\u001b[0;34m(\u001b[0m\u001b[0mnp\u001b[0m\u001b[0;34m.\u001b[0m\u001b[0mtranspose\u001b[0m\u001b[0;34m(\u001b[0m\u001b[0mreal_img\u001b[0m\u001b[0;34m.\u001b[0m\u001b[0mnumpy\u001b[0m\u001b[0;34m(\u001b[0m\u001b[0;34m)\u001b[0m\u001b[0;34m,\u001b[0m \u001b[0;34m(\u001b[0m\u001b[0;36m1\u001b[0m\u001b[0;34m,\u001b[0m \u001b[0;36m2\u001b[0m\u001b[0;34m,\u001b[0m \u001b[0;36m0\u001b[0m\u001b[0;34m)\u001b[0m\u001b[0;34m)\u001b[0m\u001b[0;34m)\u001b[0m\u001b[0;34m\u001b[0m\u001b[0;34m\u001b[0m\u001b[0m\n",
            "\u001b[0;32m/usr/local/lib/python3.6/dist-packages/PIL/Image.py\u001b[0m in \u001b[0;36mopen\u001b[0;34m(fp, mode)\u001b[0m\n\u001b[1;32m   2807\u001b[0m \u001b[0;34m\u001b[0m\u001b[0m\n\u001b[1;32m   2808\u001b[0m     \u001b[0;32mif\u001b[0m \u001b[0mfilename\u001b[0m\u001b[0;34m:\u001b[0m\u001b[0;34m\u001b[0m\u001b[0;34m\u001b[0m\u001b[0m\n\u001b[0;32m-> 2809\u001b[0;31m         \u001b[0mfp\u001b[0m \u001b[0;34m=\u001b[0m \u001b[0mbuiltins\u001b[0m\u001b[0;34m.\u001b[0m\u001b[0mopen\u001b[0m\u001b[0;34m(\u001b[0m\u001b[0mfilename\u001b[0m\u001b[0;34m,\u001b[0m \u001b[0;34m\"rb\"\u001b[0m\u001b[0;34m)\u001b[0m\u001b[0;34m\u001b[0m\u001b[0;34m\u001b[0m\u001b[0m\n\u001b[0m\u001b[1;32m   2810\u001b[0m         \u001b[0mexclusive_fp\u001b[0m \u001b[0;34m=\u001b[0m \u001b[0;32mTrue\u001b[0m\u001b[0;34m\u001b[0m\u001b[0;34m\u001b[0m\u001b[0m\n\u001b[1;32m   2811\u001b[0m \u001b[0;34m\u001b[0m\u001b[0m\n",
            "\u001b[0;31mFileNotFoundError\u001b[0m: [Errno 2] No such file or directory: 'https://images.ctfassets.net/1o0msnomnlhl/f1apLxq0UVelPHF7jXO8m/6c126525dcd7d433cca577eb0f215ec5/shutterstock_1476546878.jpg'"
          ]
        }
      ]
    },
    {
      "cell_type": "code",
      "metadata": {
        "id": "deH4ILop8VZg",
        "colab_type": "code",
        "colab": {}
      },
      "source": [
        "torch.manual_seed(2)\n",
        "\n",
        "fake_img = torch.rand(1, 100)\n",
        "fake_img.size(), fake_img.min(), fake_img.max()"
      ],
      "execution_count": null,
      "outputs": []
    },
    {
      "cell_type": "code",
      "metadata": {
        "id": "HX_YZZnA9Mw7",
        "colab_type": "code",
        "colab": {}
      },
      "source": [
        "class Discriminator(nn.Module):\n",
        "  def __init__(self):\n",
        "    super().__init__()\n",
        "    self.linear = nn.Sequential(\n",
        "        nn.Linear(flat_img, 10000),\n",
        "        nn.ReLU(),\n",
        "        nn.Linear(10000, 1),\n",
        "        nn.Sigmoid()\n",
        "    )\n",
        "\n",
        "  def forward(self, img):\n",
        "    img = img.view(1, -1)\n",
        "    out = self.linear(img)\n",
        "\n",
        "    return out"
      ],
      "execution_count": null,
      "outputs": []
    },
    {
      "cell_type": "code",
      "metadata": {
        "id": "43VID_8SAdkx",
        "colab_type": "code",
        "colab": {}
      },
      "source": [
        "class Generator(nn.Module):\n",
        "  def __init__(self):\n",
        "    super().__init__()\n",
        "    self.linear = nn.Sequential(\n",
        "        nn.Linear(100, 10000),\n",
        "        nn.LeakyReLU(),\n",
        "        nn.Linear(10000, 4000),\n",
        "        nn.LeakyReLU(),\n",
        "        nn.Linear(4000, flat_img)\n",
        "    )\n",
        "\n",
        "  def forward(self, latent_space):\n",
        "    latent_space = latent_space.view(1, -1)\n",
        "    out = self.linear(latent_space)\n",
        "\n",
        "    return out"
      ],
      "execution_count": null,
      "outputs": []
    },
    {
      "cell_type": "code",
      "metadata": {
        "id": "gW9xiUHMBTTY",
        "colab_type": "code",
        "colab": {}
      },
      "source": [
        "device = 'cuda:0' if torch.cuda.is_available() else 'cpu'\n",
        "\n",
        "discr = Discriminator().to(device)\n",
        "gen = Generator().to(device)"
      ],
      "execution_count": null,
      "outputs": []
    },
    {
      "cell_type": "code",
      "metadata": {
        "id": "oT-ZSt0xBt0z",
        "colab_type": "code",
        "colab": {}
      },
      "source": [
        "opt_d = optim.SGD(discr.parameters(), lr=0.001, momentum=0.9)\n",
        "opt_g = optim.SGD(gen.parameters(), lr=0.001, momentum=0.9)\n",
        "\n",
        "criterion = nn.BCELoss()"
      ],
      "execution_count": null,
      "outputs": []
    },
    {
      "cell_type": "code",
      "metadata": {
        "id": "_qQF03W6CDyo",
        "colab_type": "code",
        "colab": {}
      },
      "source": [
        "epochs = 500\n",
        "discr_e = 4\n",
        "gen_e = 3\n",
        "\n",
        "for epoch in tqdm(range(epochs), total=epochs):\n",
        "\n",
        "  for k in range(discr_e):\n",
        "    opt_d.zero_grad()\n",
        "\n",
        "    out_d1 = discr(real_img.to(device))\n",
        "    loss_d1 = criterion(out_d1, torch.ones((1, 1)).to(device))\n",
        "    loss_d1.backward()\n",
        "\n",
        "    out_d2 = gen(fake_img.to(device)).detach()\n",
        "    loss_d2 = criterion(discr(out_d2.to(device)), torch.zeros((1, 1)).to(device))\n",
        "    loss_d2.backward()\n",
        "\n",
        "    opt_d.step()\n",
        "\n",
        "  for i in range(gen_e):\n",
        "    opt_g.zero_grad()\n",
        "    \n",
        "    out_g = gen(fake_img.to(device))\n",
        "    #loss_g =  criterion(discr(out_g.to(device)), torch.ones(1, 1).to(device))\n",
        "\n",
        "    #Loss function\n",
        "    loss_g = 1.0 - (discr(out_g.to(device))) \n",
        "    loss_g.backward()\n",
        "\n",
        "    opt_g.step()    "
      ],
      "execution_count": null,
      "outputs": []
    },
    {
      "cell_type": "code",
      "metadata": {
        "id": "UHYb_F_AMJRD",
        "colab_type": "code",
        "colab": {}
      },
      "source": [
        "plt.figure(figsize=(8, 8))\n",
        "\n",
        "plt.subplot(1, 2, 1)\n",
        "plt.title(\"Generated Image\")\n",
        "plt.xticks([])\n",
        "plt.yticks([])\n",
        "plt.imshow(np.transpose(out_g.resize(3, 32, 32).cpu().detach().numpy(), (1, 2, 0)))\n",
        "\n",
        "plt.subplot(1, 2, 2)\n",
        "plt.title(\"Original Image\")\n",
        "plt.xticks([])\n",
        "plt.yticks([])\n",
        "plt.imshow(np.transpose(real_img.numpy(), (1, 2, 0)))\n",
        "plt.show()"
      ],
      "execution_count": null,
      "outputs": []
    },
    {
      "cell_type": "code",
      "metadata": {
        "id": "YORpTjp_aqZw",
        "colab_type": "code",
        "colab": {}
      },
      "source": [
        ""
      ],
      "execution_count": null,
      "outputs": []
    }
  ]
}